{
 "cells": [
  {
   "cell_type": "code",
   "execution_count": 1,
   "metadata": {},
   "outputs": [],
   "source": [
    "import pandas as pd, numpy as np, pymc as pm"
   ]
  },
  {
   "cell_type": "markdown",
   "metadata": {},
   "source": [
    "- pull in age x sex structure for a specific block\n",
    "\n",
    "- pull in decennial hh sizes\n",
    "- assign arbitrary hhids, relationships\n",
    "\n",
    "- run mcmc"
   ]
  },
  {
   "cell_type": "markdown",
   "metadata": {},
   "source": [
    "# Test out household structure assignment with mcmc"
   ]
  },
  {
   "cell_type": "markdown",
   "metadata": {},
   "source": [
    "Objective: given a synthetic dataset that contains, for each individual, their census block, precise age, sex, and precise race, assign a realistic household structure (wrt household ids and relationships to head of household) using distributions from the 2010 decennial."
   ]
  },
  {
   "cell_type": "markdown",
   "metadata": {},
   "source": [
    "## pull in data"
   ]
  },
  {
   "cell_type": "markdown",
   "metadata": {},
   "source": [
    "This is synthetic data; it was generated using the 2010 decennial and the 2018 acs (should switch to 2010)"
   ]
  },
  {
   "cell_type": "markdown",
   "metadata": {},
   "source": [
    "It has fairly accurate age, sex, and race distribution for each census block. The relationship and ethnicity (hispanic binary) columns are bad, because they are informed only by the state-level distribution of each var from the ACS. We will scrap those relationship assigments and reassign them using MCMC and the block-level decennial data. The inaccuracy of the ethnicity still needs to be addressed."
   ]
  },
  {
   "cell_type": "code",
   "execution_count": 2,
   "metadata": {
    "scrolled": true
   },
   "outputs": [
    {
     "data": {
      "text/html": [
       "<div>\n",
       "<style scoped>\n",
       "    .dataframe tbody tr th:only-of-type {\n",
       "        vertical-align: middle;\n",
       "    }\n",
       "\n",
       "    .dataframe tbody tr th {\n",
       "        vertical-align: top;\n",
       "    }\n",
       "\n",
       "    .dataframe thead th {\n",
       "        text-align: right;\n",
       "    }\n",
       "</style>\n",
       "<table border=\"1\" class=\"dataframe\">\n",
       "  <thead>\n",
       "    <tr style=\"text-align: right;\">\n",
       "      <th></th>\n",
       "      <th>state</th>\n",
       "      <th>county</th>\n",
       "      <th>tract</th>\n",
       "      <th>block</th>\n",
       "      <th>age</th>\n",
       "      <th>sex_id</th>\n",
       "      <th>relationship</th>\n",
       "      <th>hispanic</th>\n",
       "      <th>racaian</th>\n",
       "      <th>racasn</th>\n",
       "      <th>racblk</th>\n",
       "      <th>racnhpi</th>\n",
       "      <th>racsor</th>\n",
       "      <th>racwht</th>\n",
       "      <th>pweight</th>\n",
       "      <th>geoid</th>\n",
       "    </tr>\n",
       "  </thead>\n",
       "  <tbody>\n",
       "    <tr>\n",
       "      <th>0</th>\n",
       "      <td>53</td>\n",
       "      <td>33</td>\n",
       "      <td>4301</td>\n",
       "      <td>3011</td>\n",
       "      <td>22</td>\n",
       "      <td>1</td>\n",
       "      <td>2</td>\n",
       "      <td>0</td>\n",
       "      <td>0</td>\n",
       "      <td>0</td>\n",
       "      <td>1</td>\n",
       "      <td>0</td>\n",
       "      <td>0</td>\n",
       "      <td>1</td>\n",
       "      <td>1</td>\n",
       "      <td>530330043013011</td>\n",
       "    </tr>\n",
       "    <tr>\n",
       "      <th>1</th>\n",
       "      <td>53</td>\n",
       "      <td>33</td>\n",
       "      <td>4301</td>\n",
       "      <td>3011</td>\n",
       "      <td>52</td>\n",
       "      <td>1</td>\n",
       "      <td>1</td>\n",
       "      <td>0</td>\n",
       "      <td>0</td>\n",
       "      <td>0</td>\n",
       "      <td>0</td>\n",
       "      <td>0</td>\n",
       "      <td>0</td>\n",
       "      <td>1</td>\n",
       "      <td>1</td>\n",
       "      <td>530330043013011</td>\n",
       "    </tr>\n",
       "    <tr>\n",
       "      <th>2</th>\n",
       "      <td>53</td>\n",
       "      <td>33</td>\n",
       "      <td>4301</td>\n",
       "      <td>3011</td>\n",
       "      <td>71</td>\n",
       "      <td>1</td>\n",
       "      <td>0</td>\n",
       "      <td>0</td>\n",
       "      <td>0</td>\n",
       "      <td>0</td>\n",
       "      <td>0</td>\n",
       "      <td>0</td>\n",
       "      <td>0</td>\n",
       "      <td>1</td>\n",
       "      <td>1</td>\n",
       "      <td>530330043013011</td>\n",
       "    </tr>\n",
       "    <tr>\n",
       "      <th>3</th>\n",
       "      <td>53</td>\n",
       "      <td>33</td>\n",
       "      <td>4301</td>\n",
       "      <td>3011</td>\n",
       "      <td>38</td>\n",
       "      <td>2</td>\n",
       "      <td>2</td>\n",
       "      <td>0</td>\n",
       "      <td>0</td>\n",
       "      <td>0</td>\n",
       "      <td>0</td>\n",
       "      <td>0</td>\n",
       "      <td>0</td>\n",
       "      <td>1</td>\n",
       "      <td>1</td>\n",
       "      <td>530330043013011</td>\n",
       "    </tr>\n",
       "    <tr>\n",
       "      <th>4</th>\n",
       "      <td>53</td>\n",
       "      <td>33</td>\n",
       "      <td>4301</td>\n",
       "      <td>3011</td>\n",
       "      <td>37</td>\n",
       "      <td>2</td>\n",
       "      <td>1</td>\n",
       "      <td>0</td>\n",
       "      <td>0</td>\n",
       "      <td>0</td>\n",
       "      <td>0</td>\n",
       "      <td>0</td>\n",
       "      <td>0</td>\n",
       "      <td>1</td>\n",
       "      <td>1</td>\n",
       "      <td>530330043013011</td>\n",
       "    </tr>\n",
       "  </tbody>\n",
       "</table>\n",
       "</div>"
      ],
      "text/plain": [
       "   state  county  tract  block  age  sex_id  relationship  hispanic  racaian  \\\n",
       "0     53      33   4301   3011   22       1             2         0        0   \n",
       "1     53      33   4301   3011   52       1             1         0        0   \n",
       "2     53      33   4301   3011   71       1             0         0        0   \n",
       "3     53      33   4301   3011   38       2             2         0        0   \n",
       "4     53      33   4301   3011   37       2             1         0        0   \n",
       "\n",
       "   racasn  racblk  racnhpi  racsor  racwht  pweight            geoid  \n",
       "0       0       1        0       0       1        1  530330043013011  \n",
       "1       0       0        0       0       1        1  530330043013011  \n",
       "2       0       0        0       0       1        1  530330043013011  \n",
       "3       0       0        0       0       1        1  530330043013011  \n",
       "4       0       0        0       0       1        1  530330043013011  "
      ]
     },
     "execution_count": 2,
     "metadata": {},
     "output_type": "execute_result"
    }
   ],
   "source": [
    "## pull in age-sex structure for a single block\n",
    "df = pd.read_csv('ravenna_07_14_2020.csv')\n",
    "df.head()"
   ]
  },
  {
   "cell_type": "code",
   "execution_count": 3,
   "metadata": {},
   "outputs": [],
   "source": [
    "## pull in df to fit to from decennial\n",
    "input_dir = '/home/j/temp/beatrixh/sim_science/decennial_census_2010/'\n",
    "location_cols = ['STATE', 'COUNTY', 'TRACT', 'BLKGRP', 'BLOCK']\n",
    "household_sizes = ['P02800' + ('00' + str(i))[-2:] for i in np.arange(1,17)]\n",
    "relations_present = ['P02900' + ('00' + str(i))[-2:] for i in np.arange(1,29)]\n",
    "household_type = ['P03000' + ('00' + str(i))[-2:] for i in np.arange(1,14)]"
   ]
  },
  {
   "cell_type": "code",
   "execution_count": 4,
   "metadata": {},
   "outputs": [],
   "source": [
    "# this is the 2010 decennial for a single block in ravenna\n",
    "ravenna = pd.read_csv('decennial_ravenna_07_20_2020.csv')"
   ]
  },
  {
   "cell_type": "markdown",
   "metadata": {},
   "source": [
    "## prep vars of interest"
   ]
  },
  {
   "cell_type": "markdown",
   "metadata": {},
   "source": [
    "Decennial var labels from https://www2.census.gov/programs-surveys/decennial/2010/technical-documentation/complete-tech-docs/summary-file/sf1.pdf?#"
   ]
  },
  {
   "cell_type": "code",
   "execution_count": 5,
   "metadata": {},
   "outputs": [],
   "source": [
    "#relationship to head of hh\n",
    "relp_labels = ['total', 'in_households', 'in_family_households',\n",
    "               'householders_family', 'male_householder_family', \n",
    "               'female_householder_family', 'spouse', 'biological_child',\n",
    "               'adopted_child', 'stepchild', 'grandchild', 'sibling', \n",
    "               'parent', 'parent_in_law', 'child_in_law', \n",
    "               'other_relatives', 'nonrelatives', \n",
    "               'in_nonfamily_households', \n",
    "               'male_householder_nonfamily','male_householder_nonfamily_alone','male_householder_nonfamily_not_alone', \n",
    "               'female_householder_nonfamily', 'female_householder_nonfamily_alone','female_householder_nonfamily_not_alone', \n",
    "               'nonrelatives_nonfamily',\n",
    "               'in_gq','gq_inst','gq_noninst']\n",
    "\n",
    "ravenna_relps = ravenna[relations_present].melt(value_name = 'counts', var_name = 'relp')\n",
    "ravenna_relps['decennial_relp'] = relp_labels\n",
    "\n",
    "#these will be onto and mutually exclusive, but not 1:1 or defined on the entire domain\n",
    "decennial_acs_relp_dict = {'householders_family':0,\n",
    "                           'male_householder_nonfamily':0,\n",
    "                           'female_householder_nonfamily':0,\n",
    "                           'spouse':1,\n",
    "                          'biological_child':2,\n",
    "                          'adopted_child':3,\n",
    "                          'stepchild':4,\n",
    "                          'sibling':5,\n",
    "                          'parent':6,\n",
    "                          'grandchild':7,\n",
    "                          'parent_in_law':8,\n",
    "                          'child_in_law':9,\n",
    "                          'other_relatives':10,\n",
    "                          'nonrelatives':15, #refine this \n",
    "                          'nonrelatives_nonfamily':15, #refine this\n",
    "                          'gq_inst':16,\n",
    "                          'gq_noninst':17} #same-sex spouses were mapped to nonrelatives\n",
    "\n",
    "ravenna_relps['relp_id'] = ravenna_relps.decennial_relp.map(decennial_acs_relp_dict)\n",
    "ravenna_relps = ravenna_relps[ravenna_relps.relp_id.notna()]\n",
    "ravenna_relps = ravenna_relps.drop(columns=['relp','decennial_relp'])\n",
    "ravenna_relps = ravenna_relps.groupby('relp_id').sum().reset_index()"
   ]
  },
  {
   "cell_type": "code",
   "execution_count": 6,
   "metadata": {},
   "outputs": [],
   "source": [
    "## household type\n",
    "hh_type_labels = ['total','in_family_hh',\n",
    "                  'in_husband_wife_family',\n",
    "                  'in_other_family','in_male_head_no_wife',\n",
    "                  'in_female_head_no_husband','in_non_family',\n",
    "                  'non_family_male_head','non_family_male_head_alone',\n",
    "                  'non_family_male_head_not_alone',\n",
    "                  'non_family_female_head','non_family_female_head_alone',\n",
    "                  'non_family_female_head_not_alone']\n",
    "\n",
    "ravenna_hh_types = ravenna[household_type].melt(value_name = 'counts', var_name = 'hh_type')\n",
    "ravenna_hh_types['hh_type_label'] = hh_type_labels"
   ]
  },
  {
   "cell_type": "code",
   "execution_count": 7,
   "metadata": {},
   "outputs": [],
   "source": [
    "## household ids\n",
    "ravenna_hhs = ravenna[household_sizes].melt(value_name = 'counts', var_name = 'hh_size')\n",
    "\n",
    "## map census vars to household sizes\n",
    "d = {}\n",
    "d.update({i:int(i[-1])-1 for i in ravenna.columns[8:14]})\n",
    "d.update({i:int(i[-1])+1 for i in ravenna.columns[15:]})\n",
    "\n",
    "ravenna_hhs['hh_size'] = ravenna_hhs.hh_size.map(d)\n",
    "ravenna_hhs = ravenna_hhs[ravenna_hhs.hh_size.notna()]\n",
    "ravenna_hhs = ravenna_hhs.groupby('hh_size').sum().reset_index()"
   ]
  },
  {
   "cell_type": "code",
   "execution_count": 8,
   "metadata": {},
   "outputs": [
    {
     "name": "stdout",
     "output_type": "stream",
     "text": [
      "n_households: 24\n",
      "n_simulants: 65\n"
     ]
    }
   ],
   "source": [
    "n_households = ravenna_hhs['counts'].sum()\n",
    "n_sims = df.pweight.sum()\n",
    "\n",
    "print(f'''n_households: {n_households}\n",
    "n_simulants: {n_sims}''')"
   ]
  },
  {
   "cell_type": "markdown",
   "metadata": {},
   "source": [
    "## mcmc"
   ]
  },
  {
   "cell_type": "markdown",
   "metadata": {},
   "source": [
    "initialize with uniform priors, then add in constraints using decennial block-level data"
   ]
  },
  {
   "cell_type": "code",
   "execution_count": 9,
   "metadata": {},
   "outputs": [],
   "source": [
    "hhid = pm.DiscreteUniform('hhid', 0, n_households-1, size=n_sims)\n",
    "relp = pm.DiscreteUniform('relp', 0, ravenna_relps.relp_id.max(), size = n_sims)\n",
    "family_hh = pm.DiscreteUniform('family_hh', 0, 1, size = n_sims)"
   ]
  },
  {
   "cell_type": "code",
   "execution_count": 10,
   "metadata": {},
   "outputs": [],
   "source": [
    "#make sure there are exactly n_households hhs\n",
    "@pm.potential\n",
    "def hh_count_constraint_soft(hhid=hhid, n_households=n_households):\n",
    "    diff = len(np.unique(hhid)) - n_households\n",
    "    return -1*(diff)**2"
   ]
  },
  {
   "cell_type": "code",
   "execution_count": 11,
   "metadata": {},
   "outputs": [],
   "source": [
    "def checkout_hh_count_constraint_soft(hhid=hhid.value, n_households=n_households):\n",
    "    diff = len(np.unique(hhid)) - n_households\n",
    "    print(f'difference in number of unique households: {diff}')"
   ]
  },
  {
   "cell_type": "code",
   "execution_count": 12,
   "metadata": {},
   "outputs": [],
   "source": [
    "#constrain towards correct houshold sizes\n",
    "@pm.potential\n",
    "def hh_size_distribution_constraint_soft(hhid=hhid, target=ravenna_hhs):\n",
    "    #count hh_size distribution in sim data\n",
    "    sim_hh_sizes = pd.DataFrame({'hhids':hhid}).hhids.value_counts().value_counts()\n",
    "    sim_hh_sizes = pd.DataFrame(sim_hh_sizes).reset_index().rename(columns={'index':'hh_size','hhids':'sim_counts'})\n",
    "    \n",
    "    #compare to target distribution\n",
    "    compare = sim_hh_sizes.merge(target, on = 'hh_size', how = 'outer').fillna(0)\n",
    "    compare['abs_diff'] = np.abs(compare.sim_counts - compare.counts)\n",
    "    \n",
    "    return -compare.abs_diff.sum()"
   ]
  },
  {
   "cell_type": "code",
   "execution_count": 13,
   "metadata": {},
   "outputs": [],
   "source": [
    "def checkout_hh_size_distribution_constraint_soft(hhid=hhid.value, target=ravenna_hhs):\n",
    "    #count hh_size distribution in sim data\n",
    "    sim_hh_sizes = pd.DataFrame({'hhids':hhid}).hhids.value_counts().value_counts()\n",
    "    sim_hh_sizes = pd.DataFrame(sim_hh_sizes).reset_index().rename(columns={'index':'hh_size','hhids':'sim_counts'})\n",
    "    \n",
    "    #compare to target distribution\n",
    "    compare = sim_hh_sizes.merge(target, on = 'hh_size', how = 'outer').fillna(0)\n",
    "    compare['abs_diff'] = np.abs(compare.sim_counts - compare.counts)\n",
    "    \n",
    "    return compare.sort_values('hh_size')"
   ]
  },
  {
   "cell_type": "code",
   "execution_count": 14,
   "metadata": {},
   "outputs": [],
   "source": [
    "#constrain towards correct relationship assignment distribution\n",
    "@pm.potential\n",
    "def relp_distribution_constraint_soft(relp=relp, target = ravenna_relps):\n",
    "    #count relp distribution in sim data\n",
    "    sim_relps = pd.DataFrame({'relps':relp}).relps.value_counts()\n",
    "    sim_relps = pd.DataFrame(sim_relps).reset_index().rename(columns={'index':'relp_id','relps':'sim_counts'})\n",
    "\n",
    "    #compare to target distribution\n",
    "    compare = sim_relps.merge(ravenna_relps, on='relp_id', how = 'outer').fillna(0)\n",
    "    compare['abs_diff'] = np.abs(compare.sim_counts - compare.counts)\n",
    "    \n",
    "    return -compare.abs_diff.sum()**2"
   ]
  },
  {
   "cell_type": "code",
   "execution_count": 15,
   "metadata": {},
   "outputs": [],
   "source": [
    "def checkout_relp_distribution_constraint_soft(relp=relp.value, target = ravenna_relps):\n",
    "    #count relp distribution in sim data\n",
    "    sim_relps = pd.DataFrame({'relps':relp}).relps.value_counts()\n",
    "    sim_relps = pd.DataFrame(sim_relps).reset_index().rename(columns={'index':'relp_id','relps':'sim_counts'})\n",
    "\n",
    "    #compare to target distribution\n",
    "    compare = sim_relps.merge(ravenna_relps, on='relp_id', how = 'outer').fillna(0)\n",
    "    compare['abs_diff'] = np.abs(compare.sim_counts - compare.counts)\n",
    "    \n",
    "    return compare.sort_values('relp_id')"
   ]
  },
  {
   "cell_type": "code",
   "execution_count": 16,
   "metadata": {},
   "outputs": [],
   "source": [
    "#make sure there are exactly n_households hh_heads\n",
    "@pm.potential\n",
    "def hh_head_count_constraint_soft(relp=relp, n_households=n_households):\n",
    "    diff = sum([i==0 for i in relp]) - n_households\n",
    "    return -1*(diff)**2"
   ]
  },
  {
   "cell_type": "code",
   "execution_count": 17,
   "metadata": {},
   "outputs": [],
   "source": [
    "def checkout_hh_head_count_constraint_soft(relp=relp.value, n_households=n_households):\n",
    "    diff = sum([i==0 for i in relp]) - n_households\n",
    "    print(f'difference in number of household heads: {diff}')"
   ]
  },
  {
   "cell_type": "code",
   "execution_count": 18,
   "metadata": {},
   "outputs": [],
   "source": [
    "#make sure one hh_head per hhid\n",
    "@pm.potential\n",
    "def one_head_per_hh_soft_constraint(relp=relp, hhid=hhid):\n",
    "    #count hh_heads\n",
    "    hh_heads = [1 if i==0 else 0 for i in relp]\n",
    "    \n",
    "    #enumerate per hhid\n",
    "    heads_per_hh = pd.DataFrame({'hhid':hhid,'hh_head':hh_heads})\n",
    "    heads_per_hh = heads_per_hh.groupby('hhid').sum()\n",
    "    \n",
    "    #look at how far from 1 per hh each is\n",
    "    heads_per_hh.hh_head -= 1\n",
    "    \n",
    "    return -sum(heads_per_hh.hh_head.abs())**2"
   ]
  },
  {
   "cell_type": "code",
   "execution_count": 19,
   "metadata": {},
   "outputs": [],
   "source": [
    "def checkout_one_head_per_hh_soft_constraint(relp=relp.value, hhid=hhid.value):\n",
    "    #count hh_heads\n",
    "    hh_heads = [1 if i==0 else 0 for i in relp]\n",
    "    \n",
    "    #enumerate per hhid\n",
    "    heads_per_hh = pd.DataFrame({'hhid':hhid,'hh_head_count':hh_heads})\n",
    "    heads_per_hh = heads_per_hh.groupby('hhid').sum()\n",
    "    \n",
    "    return heads_per_hh.sort_values('hhid')"
   ]
  },
  {
   "cell_type": "code",
   "execution_count": 20,
   "metadata": {},
   "outputs": [],
   "source": [
    "#make sure leq one spouse per hhid\n",
    "@pm.potential\n",
    "def leq_one_spouse_per_hh_soft_constraint(relp=relp, hhid=hhid):\n",
    "    #count spouses\n",
    "    spouses = [1 if i==1 else 0 for i in relp]\n",
    "    \n",
    "    #enumerate per hhid\n",
    "    spouses_per_hh = pd.DataFrame({'hhid':hhid,'spouses_count':spouses})\n",
    "    spouses_per_hh = spouses_per_hh.groupby('hhid').sum()\n",
    "    \n",
    "    return -sum([i if i>1 else 0 for i in spouses_per_hh.spouses_count])**2"
   ]
  },
  {
   "cell_type": "code",
   "execution_count": 21,
   "metadata": {},
   "outputs": [],
   "source": [
    "def leq_one_spouse_per_hh_soft_constraint(relp=relp.value, hhid=hhid.value):\n",
    "    #count spouses\n",
    "    spouses = [1 if i==1 else 0 for i in relp]\n",
    "    \n",
    "    #enumerate per hhid\n",
    "    spouses_per_hh = pd.DataFrame({'hhid':hhid,'spouses_count':spouses})\n",
    "    spouses_per_hh = spouses_per_hh.groupby('hhid').sum()\n",
    "    \n",
    "    return spouses_per_hh.sort_values('hhid')"
   ]
  },
  {
   "cell_type": "code",
   "execution_count": 22,
   "metadata": {},
   "outputs": [],
   "source": [
    "#make sure there are correct count of family hhs\n",
    "@pm.potential\n",
    "def family_hh_count_soft_constraint(family_hh=family_hh, target_hh_types=ravenna_hh_types):\n",
    "    diff = sum(family_hh) - target_hh_types[target_hh_types.hh_type_label=='in_family_hh'].counts\n",
    "    return -1*(diff**2)"
   ]
  },
  {
   "cell_type": "code",
   "execution_count": 23,
   "metadata": {},
   "outputs": [],
   "source": [
    "def family_hh_count_soft_constraint(family_hh=family_hh.value, target_hh_types=ravenna_hh_types):\n",
    "    diff = sum(family_hh) - target_hh_types[target_hh_types.hh_type_label=='in_family_hh'].counts\n",
    "    print(f'difference in count of actual family households vs. synthetic family households: {diff.values[0]}')\n"
   ]
  },
  {
   "cell_type": "code",
   "execution_count": 24,
   "metadata": {},
   "outputs": [],
   "source": [
    "#make sure no spouses in non-family households\n",
    "@pm.potential\n",
    "def spouses_in_families_only_soft_constraint(relp=relp, hhid=hhid, family_hh=family_hh):\n",
    "    # get all vars\n",
    "    block = pd.DataFrame({'relp':relp, 'hhid': hhid, 'family_hh':family_hh})\n",
    "    # count of non-family households in which there is erroneously a spouse\n",
    "    total = block[block.relp==1].family_hh.sum()\n",
    "    return -total**2"
   ]
  },
  {
   "cell_type": "code",
   "execution_count": 25,
   "metadata": {},
   "outputs": [],
   "source": [
    "def spouses_in_families_only_soft_constraint(relp=relp.value, hhid=hhid.value, family_hh=family_hh.value):\n",
    "    # get all vars\n",
    "    block = pd.DataFrame({'relp':relp, 'hhid': hhid, 'family_hh':family_hh})\n",
    "\n",
    "    # count of non-family households in which there is erroneously a spouse\n",
    "    total = block[block.relp==1].family_hh.sum()\n",
    "    \n",
    "    print(f'count of spouses erroneoulsy in non-family hhs: {total}')"
   ]
  },
  {
   "cell_type": "code",
   "execution_count": 26,
   "metadata": {},
   "outputs": [
    {
     "name": "stderr",
     "output_type": "stream",
     "text": [
      "/share/code/beatrixh/miniconda/envs/mcmc/lib/python3.6/site-packages/pymc/MCMC.py:81: UserWarning: Instantiating a Model object directly is deprecated. We recommend passing variables directly to the Model subclass.\n",
      "  warnings.warn(message)\n"
     ]
    }
   ],
   "source": [
    "m = pm.Model([hhid, relp])\n",
    "mc = pm.MCMC(m)"
   ]
  },
  {
   "cell_type": "code",
   "execution_count": 27,
   "metadata": {},
   "outputs": [
    {
     "name": "stdout",
     "output_type": "stream",
     "text": [
      " [-----------------100%-----------------] 20000 of 20000 complete in 342.7 sec"
     ]
    }
   ],
   "source": [
    "mc.sample(iter=20_000, burn = 1_000)"
   ]
  },
  {
   "cell_type": "markdown",
   "metadata": {},
   "source": [
    "## checkout fit"
   ]
  },
  {
   "cell_type": "markdown",
   "metadata": {},
   "source": [
    "For each var we fit on, compare the counts for each value of that var in the simulated data vs. the decennial data"
   ]
  },
  {
   "cell_type": "code",
   "execution_count": 28,
   "metadata": {},
   "outputs": [
    {
     "name": "stdout",
     "output_type": "stream",
     "text": [
      "difference in number of unique households: -4\n"
     ]
    }
   ],
   "source": [
    "checkout_hh_count_constraint_soft()"
   ]
  },
  {
   "cell_type": "code",
   "execution_count": 29,
   "metadata": {},
   "outputs": [
    {
     "data": {
      "text/html": [
       "<div>\n",
       "<style scoped>\n",
       "    .dataframe tbody tr th:only-of-type {\n",
       "        vertical-align: middle;\n",
       "    }\n",
       "\n",
       "    .dataframe tbody tr th {\n",
       "        vertical-align: top;\n",
       "    }\n",
       "\n",
       "    .dataframe thead th {\n",
       "        text-align: right;\n",
       "    }\n",
       "</style>\n",
       "<table border=\"1\" class=\"dataframe\">\n",
       "  <thead>\n",
       "    <tr style=\"text-align: right;\">\n",
       "      <th></th>\n",
       "      <th>hh_size</th>\n",
       "      <th>sim_counts</th>\n",
       "      <th>counts</th>\n",
       "      <th>abs_diff</th>\n",
       "    </tr>\n",
       "  </thead>\n",
       "  <tbody>\n",
       "    <tr>\n",
       "      <th>4</th>\n",
       "      <td>1</td>\n",
       "      <td>2.0</td>\n",
       "      <td>6.0</td>\n",
       "      <td>4.0</td>\n",
       "    </tr>\n",
       "    <tr>\n",
       "      <th>1</th>\n",
       "      <td>2</td>\n",
       "      <td>6.0</td>\n",
       "      <td>9.0</td>\n",
       "      <td>3.0</td>\n",
       "    </tr>\n",
       "    <tr>\n",
       "      <th>0</th>\n",
       "      <td>3</td>\n",
       "      <td>7.0</td>\n",
       "      <td>1.0</td>\n",
       "      <td>6.0</td>\n",
       "    </tr>\n",
       "    <tr>\n",
       "      <th>3</th>\n",
       "      <td>4</td>\n",
       "      <td>2.0</td>\n",
       "      <td>3.0</td>\n",
       "      <td>1.0</td>\n",
       "    </tr>\n",
       "    <tr>\n",
       "      <th>6</th>\n",
       "      <td>5</td>\n",
       "      <td>0.0</td>\n",
       "      <td>4.0</td>\n",
       "      <td>4.0</td>\n",
       "    </tr>\n",
       "    <tr>\n",
       "      <th>5</th>\n",
       "      <td>6</td>\n",
       "      <td>1.0</td>\n",
       "      <td>1.0</td>\n",
       "      <td>0.0</td>\n",
       "    </tr>\n",
       "    <tr>\n",
       "      <th>7</th>\n",
       "      <td>7</td>\n",
       "      <td>0.0</td>\n",
       "      <td>0.0</td>\n",
       "      <td>0.0</td>\n",
       "    </tr>\n",
       "    <tr>\n",
       "      <th>2</th>\n",
       "      <td>8</td>\n",
       "      <td>2.0</td>\n",
       "      <td>0.0</td>\n",
       "      <td>2.0</td>\n",
       "    </tr>\n",
       "  </tbody>\n",
       "</table>\n",
       "</div>"
      ],
      "text/plain": [
       "   hh_size  sim_counts  counts  abs_diff\n",
       "4        1         2.0     6.0       4.0\n",
       "1        2         6.0     9.0       3.0\n",
       "0        3         7.0     1.0       6.0\n",
       "3        4         2.0     3.0       1.0\n",
       "6        5         0.0     4.0       4.0\n",
       "5        6         1.0     1.0       0.0\n",
       "7        7         0.0     0.0       0.0\n",
       "2        8         2.0     0.0       2.0"
      ]
     },
     "execution_count": 29,
     "metadata": {},
     "output_type": "execute_result"
    }
   ],
   "source": [
    "checkout_hh_size_distribution_constraint_soft()"
   ]
  },
  {
   "cell_type": "code",
   "execution_count": 30,
   "metadata": {},
   "outputs": [
    {
     "data": {
      "text/html": [
       "<div>\n",
       "<style scoped>\n",
       "    .dataframe tbody tr th:only-of-type {\n",
       "        vertical-align: middle;\n",
       "    }\n",
       "\n",
       "    .dataframe tbody tr th {\n",
       "        vertical-align: top;\n",
       "    }\n",
       "\n",
       "    .dataframe thead th {\n",
       "        text-align: right;\n",
       "    }\n",
       "</style>\n",
       "<table border=\"1\" class=\"dataframe\">\n",
       "  <thead>\n",
       "    <tr style=\"text-align: right;\">\n",
       "      <th></th>\n",
       "      <th>relp_id</th>\n",
       "      <th>sim_counts</th>\n",
       "      <th>counts</th>\n",
       "      <th>abs_diff</th>\n",
       "    </tr>\n",
       "  </thead>\n",
       "  <tbody>\n",
       "    <tr>\n",
       "      <th>15</th>\n",
       "      <td>0</td>\n",
       "      <td>2</td>\n",
       "      <td>24.0</td>\n",
       "      <td>22.0</td>\n",
       "    </tr>\n",
       "    <tr>\n",
       "      <th>10</th>\n",
       "      <td>1</td>\n",
       "      <td>3</td>\n",
       "      <td>12.0</td>\n",
       "      <td>9.0</td>\n",
       "    </tr>\n",
       "    <tr>\n",
       "      <th>0</th>\n",
       "      <td>2</td>\n",
       "      <td>10</td>\n",
       "      <td>7.0</td>\n",
       "      <td>3.0</td>\n",
       "    </tr>\n",
       "    <tr>\n",
       "      <th>12</th>\n",
       "      <td>3</td>\n",
       "      <td>2</td>\n",
       "      <td>2.0</td>\n",
       "      <td>0.0</td>\n",
       "    </tr>\n",
       "    <tr>\n",
       "      <th>7</th>\n",
       "      <td>4</td>\n",
       "      <td>4</td>\n",
       "      <td>0.0</td>\n",
       "      <td>4.0</td>\n",
       "    </tr>\n",
       "    <tr>\n",
       "      <th>11</th>\n",
       "      <td>5</td>\n",
       "      <td>3</td>\n",
       "      <td>0.0</td>\n",
       "      <td>3.0</td>\n",
       "    </tr>\n",
       "    <tr>\n",
       "      <th>6</th>\n",
       "      <td>6</td>\n",
       "      <td>4</td>\n",
       "      <td>0.0</td>\n",
       "      <td>4.0</td>\n",
       "    </tr>\n",
       "    <tr>\n",
       "      <th>14</th>\n",
       "      <td>7</td>\n",
       "      <td>2</td>\n",
       "      <td>0.0</td>\n",
       "      <td>2.0</td>\n",
       "    </tr>\n",
       "    <tr>\n",
       "      <th>13</th>\n",
       "      <td>8</td>\n",
       "      <td>2</td>\n",
       "      <td>2.0</td>\n",
       "      <td>0.0</td>\n",
       "    </tr>\n",
       "    <tr>\n",
       "      <th>2</th>\n",
       "      <td>9</td>\n",
       "      <td>5</td>\n",
       "      <td>0.0</td>\n",
       "      <td>5.0</td>\n",
       "    </tr>\n",
       "    <tr>\n",
       "      <th>16</th>\n",
       "      <td>10</td>\n",
       "      <td>1</td>\n",
       "      <td>0.0</td>\n",
       "      <td>1.0</td>\n",
       "    </tr>\n",
       "    <tr>\n",
       "      <th>9</th>\n",
       "      <td>11</td>\n",
       "      <td>3</td>\n",
       "      <td>0.0</td>\n",
       "      <td>3.0</td>\n",
       "    </tr>\n",
       "    <tr>\n",
       "      <th>5</th>\n",
       "      <td>12</td>\n",
       "      <td>4</td>\n",
       "      <td>0.0</td>\n",
       "      <td>4.0</td>\n",
       "    </tr>\n",
       "    <tr>\n",
       "      <th>8</th>\n",
       "      <td>14</td>\n",
       "      <td>3</td>\n",
       "      <td>0.0</td>\n",
       "      <td>3.0</td>\n",
       "    </tr>\n",
       "    <tr>\n",
       "      <th>1</th>\n",
       "      <td>15</td>\n",
       "      <td>8</td>\n",
       "      <td>18.0</td>\n",
       "      <td>10.0</td>\n",
       "    </tr>\n",
       "    <tr>\n",
       "      <th>3</th>\n",
       "      <td>16</td>\n",
       "      <td>5</td>\n",
       "      <td>0.0</td>\n",
       "      <td>5.0</td>\n",
       "    </tr>\n",
       "    <tr>\n",
       "      <th>4</th>\n",
       "      <td>17</td>\n",
       "      <td>4</td>\n",
       "      <td>0.0</td>\n",
       "      <td>4.0</td>\n",
       "    </tr>\n",
       "  </tbody>\n",
       "</table>\n",
       "</div>"
      ],
      "text/plain": [
       "    relp_id  sim_counts  counts  abs_diff\n",
       "15        0           2    24.0      22.0\n",
       "10        1           3    12.0       9.0\n",
       "0         2          10     7.0       3.0\n",
       "12        3           2     2.0       0.0\n",
       "7         4           4     0.0       4.0\n",
       "11        5           3     0.0       3.0\n",
       "6         6           4     0.0       4.0\n",
       "14        7           2     0.0       2.0\n",
       "13        8           2     2.0       0.0\n",
       "2         9           5     0.0       5.0\n",
       "16       10           1     0.0       1.0\n",
       "9        11           3     0.0       3.0\n",
       "5        12           4     0.0       4.0\n",
       "8        14           3     0.0       3.0\n",
       "1        15           8    18.0      10.0\n",
       "3        16           5     0.0       5.0\n",
       "4        17           4     0.0       4.0"
      ]
     },
     "execution_count": 30,
     "metadata": {},
     "output_type": "execute_result"
    }
   ],
   "source": [
    "checkout_relp_distribution_constraint_soft()"
   ]
  },
  {
   "cell_type": "code",
   "execution_count": 31,
   "metadata": {},
   "outputs": [
    {
     "name": "stdout",
     "output_type": "stream",
     "text": [
      "difference in number of household heads: -22\n"
     ]
    }
   ],
   "source": [
    "checkout_hh_head_count_constraint_soft()"
   ]
  },
  {
   "cell_type": "code",
   "execution_count": 32,
   "metadata": {},
   "outputs": [
    {
     "data": {
      "text/html": [
       "<div>\n",
       "<style scoped>\n",
       "    .dataframe tbody tr th:only-of-type {\n",
       "        vertical-align: middle;\n",
       "    }\n",
       "\n",
       "    .dataframe tbody tr th {\n",
       "        vertical-align: top;\n",
       "    }\n",
       "\n",
       "    .dataframe thead th {\n",
       "        text-align: right;\n",
       "    }\n",
       "</style>\n",
       "<table border=\"1\" class=\"dataframe\">\n",
       "  <thead>\n",
       "    <tr style=\"text-align: right;\">\n",
       "      <th></th>\n",
       "      <th>hh_head_count</th>\n",
       "    </tr>\n",
       "    <tr>\n",
       "      <th>hhid</th>\n",
       "      <th></th>\n",
       "    </tr>\n",
       "  </thead>\n",
       "  <tbody>\n",
       "    <tr>\n",
       "      <th>1</th>\n",
       "      <td>0</td>\n",
       "    </tr>\n",
       "    <tr>\n",
       "      <th>2</th>\n",
       "      <td>0</td>\n",
       "    </tr>\n",
       "    <tr>\n",
       "      <th>3</th>\n",
       "      <td>0</td>\n",
       "    </tr>\n",
       "    <tr>\n",
       "      <th>4</th>\n",
       "      <td>1</td>\n",
       "    </tr>\n",
       "    <tr>\n",
       "      <th>5</th>\n",
       "      <td>0</td>\n",
       "    </tr>\n",
       "    <tr>\n",
       "      <th>6</th>\n",
       "      <td>0</td>\n",
       "    </tr>\n",
       "    <tr>\n",
       "      <th>7</th>\n",
       "      <td>0</td>\n",
       "    </tr>\n",
       "    <tr>\n",
       "      <th>9</th>\n",
       "      <td>0</td>\n",
       "    </tr>\n",
       "    <tr>\n",
       "      <th>10</th>\n",
       "      <td>0</td>\n",
       "    </tr>\n",
       "    <tr>\n",
       "      <th>11</th>\n",
       "      <td>0</td>\n",
       "    </tr>\n",
       "    <tr>\n",
       "      <th>12</th>\n",
       "      <td>0</td>\n",
       "    </tr>\n",
       "    <tr>\n",
       "      <th>13</th>\n",
       "      <td>1</td>\n",
       "    </tr>\n",
       "    <tr>\n",
       "      <th>14</th>\n",
       "      <td>0</td>\n",
       "    </tr>\n",
       "    <tr>\n",
       "      <th>16</th>\n",
       "      <td>0</td>\n",
       "    </tr>\n",
       "    <tr>\n",
       "      <th>17</th>\n",
       "      <td>0</td>\n",
       "    </tr>\n",
       "    <tr>\n",
       "      <th>18</th>\n",
       "      <td>0</td>\n",
       "    </tr>\n",
       "    <tr>\n",
       "      <th>19</th>\n",
       "      <td>0</td>\n",
       "    </tr>\n",
       "    <tr>\n",
       "      <th>20</th>\n",
       "      <td>0</td>\n",
       "    </tr>\n",
       "    <tr>\n",
       "      <th>21</th>\n",
       "      <td>0</td>\n",
       "    </tr>\n",
       "    <tr>\n",
       "      <th>23</th>\n",
       "      <td>0</td>\n",
       "    </tr>\n",
       "  </tbody>\n",
       "</table>\n",
       "</div>"
      ],
      "text/plain": [
       "      hh_head_count\n",
       "hhid               \n",
       "1                 0\n",
       "2                 0\n",
       "3                 0\n",
       "4                 1\n",
       "5                 0\n",
       "6                 0\n",
       "7                 0\n",
       "9                 0\n",
       "10                0\n",
       "11                0\n",
       "12                0\n",
       "13                1\n",
       "14                0\n",
       "16                0\n",
       "17                0\n",
       "18                0\n",
       "19                0\n",
       "20                0\n",
       "21                0\n",
       "23                0"
      ]
     },
     "execution_count": 32,
     "metadata": {},
     "output_type": "execute_result"
    }
   ],
   "source": [
    "# there should be exactly 1 household head per household\n",
    "checkout_one_head_per_hh_soft_constraint()"
   ]
  },
  {
   "cell_type": "code",
   "execution_count": 33,
   "metadata": {},
   "outputs": [
    {
     "data": {
      "text/html": [
       "<div>\n",
       "<style scoped>\n",
       "    .dataframe tbody tr th:only-of-type {\n",
       "        vertical-align: middle;\n",
       "    }\n",
       "\n",
       "    .dataframe tbody tr th {\n",
       "        vertical-align: top;\n",
       "    }\n",
       "\n",
       "    .dataframe thead th {\n",
       "        text-align: right;\n",
       "    }\n",
       "</style>\n",
       "<table border=\"1\" class=\"dataframe\">\n",
       "  <thead>\n",
       "    <tr style=\"text-align: right;\">\n",
       "      <th></th>\n",
       "      <th>spouses_count</th>\n",
       "    </tr>\n",
       "    <tr>\n",
       "      <th>hhid</th>\n",
       "      <th></th>\n",
       "    </tr>\n",
       "  </thead>\n",
       "  <tbody>\n",
       "    <tr>\n",
       "      <th>1</th>\n",
       "      <td>0</td>\n",
       "    </tr>\n",
       "    <tr>\n",
       "      <th>2</th>\n",
       "      <td>0</td>\n",
       "    </tr>\n",
       "    <tr>\n",
       "      <th>3</th>\n",
       "      <td>0</td>\n",
       "    </tr>\n",
       "    <tr>\n",
       "      <th>4</th>\n",
       "      <td>0</td>\n",
       "    </tr>\n",
       "    <tr>\n",
       "      <th>5</th>\n",
       "      <td>0</td>\n",
       "    </tr>\n",
       "    <tr>\n",
       "      <th>6</th>\n",
       "      <td>0</td>\n",
       "    </tr>\n",
       "    <tr>\n",
       "      <th>7</th>\n",
       "      <td>0</td>\n",
       "    </tr>\n",
       "    <tr>\n",
       "      <th>9</th>\n",
       "      <td>0</td>\n",
       "    </tr>\n",
       "    <tr>\n",
       "      <th>10</th>\n",
       "      <td>0</td>\n",
       "    </tr>\n",
       "    <tr>\n",
       "      <th>11</th>\n",
       "      <td>0</td>\n",
       "    </tr>\n",
       "    <tr>\n",
       "      <th>12</th>\n",
       "      <td>0</td>\n",
       "    </tr>\n",
       "    <tr>\n",
       "      <th>13</th>\n",
       "      <td>3</td>\n",
       "    </tr>\n",
       "    <tr>\n",
       "      <th>14</th>\n",
       "      <td>0</td>\n",
       "    </tr>\n",
       "    <tr>\n",
       "      <th>16</th>\n",
       "      <td>0</td>\n",
       "    </tr>\n",
       "    <tr>\n",
       "      <th>17</th>\n",
       "      <td>0</td>\n",
       "    </tr>\n",
       "    <tr>\n",
       "      <th>18</th>\n",
       "      <td>0</td>\n",
       "    </tr>\n",
       "    <tr>\n",
       "      <th>19</th>\n",
       "      <td>0</td>\n",
       "    </tr>\n",
       "    <tr>\n",
       "      <th>20</th>\n",
       "      <td>0</td>\n",
       "    </tr>\n",
       "    <tr>\n",
       "      <th>21</th>\n",
       "      <td>0</td>\n",
       "    </tr>\n",
       "    <tr>\n",
       "      <th>23</th>\n",
       "      <td>0</td>\n",
       "    </tr>\n",
       "  </tbody>\n",
       "</table>\n",
       "</div>"
      ],
      "text/plain": [
       "      spouses_count\n",
       "hhid               \n",
       "1                 0\n",
       "2                 0\n",
       "3                 0\n",
       "4                 0\n",
       "5                 0\n",
       "6                 0\n",
       "7                 0\n",
       "9                 0\n",
       "10                0\n",
       "11                0\n",
       "12                0\n",
       "13                3\n",
       "14                0\n",
       "16                0\n",
       "17                0\n",
       "18                0\n",
       "19                0\n",
       "20                0\n",
       "21                0\n",
       "23                0"
      ]
     },
     "execution_count": 33,
     "metadata": {},
     "output_type": "execute_result"
    }
   ],
   "source": [
    "# there should be <= 1 spouse per household\n",
    "leq_one_spouse_per_hh_soft_constraint()"
   ]
  },
  {
   "cell_type": "code",
   "execution_count": 34,
   "metadata": {},
   "outputs": [
    {
     "name": "stdout",
     "output_type": "stream",
     "text": [
      "difference in count of actual family households vs. synthetic family households: 1\n"
     ]
    }
   ],
   "source": [
    "family_hh_count_soft_constraint()"
   ]
  },
  {
   "cell_type": "code",
   "execution_count": 35,
   "metadata": {},
   "outputs": [
    {
     "name": "stdout",
     "output_type": "stream",
     "text": [
      "count of spouses erroneoulsy in non-family hhs: 3\n"
     ]
    }
   ],
   "source": [
    "spouses_in_families_only_soft_constraint()"
   ]
  },
  {
   "cell_type": "code",
   "execution_count": null,
   "metadata": {},
   "outputs": [],
   "source": []
  }
 ],
 "metadata": {
  "kernelspec": {
   "display_name": "Python 3",
   "language": "python",
   "name": "python3"
  },
  "language_info": {
   "codemirror_mode": {
    "name": "ipython",
    "version": 3
   },
   "file_extension": ".py",
   "mimetype": "text/x-python",
   "name": "python",
   "nbconvert_exporter": "python",
   "pygments_lexer": "ipython3",
   "version": "3.6.10"
  }
 },
 "nbformat": 4,
 "nbformat_minor": 4
}
